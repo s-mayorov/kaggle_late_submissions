{
 "cells": [
  {
   "cell_type": "code",
   "execution_count": 1,
   "id": "israeli-daily",
   "metadata": {},
   "outputs": [],
   "source": [
    "import torch\n",
    "import torch.nn as nn\n",
    "from torch.utils.data import Dataset, DataLoader, random_split\n",
    "from torchvision import transforms\n",
    "from torch.optim import Adam\n",
    "\n",
    "import csv\n",
    "import pandas as pd\n",
    "import numpy as np\n",
    "import matplotlib.pyplot as plt\n",
    "\n",
    "from models import SimpleNet"
   ]
  },
  {
   "cell_type": "code",
   "execution_count": 2,
   "id": "professional-irrigation",
   "metadata": {},
   "outputs": [],
   "source": [
    "%config Completer.use_jedi = False"
   ]
  },
  {
   "cell_type": "code",
   "execution_count": 3,
   "id": "academic-quality",
   "metadata": {},
   "outputs": [],
   "source": [
    "TRAIN_DATA_PATH = \"train.csv\"\n",
    "TEST_DATA_PATH = \"test.csv\""
   ]
  },
  {
   "cell_type": "code",
   "execution_count": 4,
   "id": "persistent-funeral",
   "metadata": {},
   "outputs": [],
   "source": [
    "class KannadaDataset(Dataset):\n",
    "    def __init__(self, mode=\"train\", reshape=True):\n",
    "        if mode==\"train\":\n",
    "            data_raw = pd.read_csv(TRAIN_DATA_PATH)\n",
    "            first_column = \"label\"\n",
    "        elif mode==\"test\":\n",
    "            data_raw = pd.read_csv(TEST_DATA_PATH)\n",
    "            first_column = \"id\"\n",
    "        labels = torch.tensor(data_raw[first_column].to_numpy())\n",
    "        pixels = torch.tensor(data_raw.iloc[:, 1:].to_numpy()/255)\n",
    "        if reshape:\n",
    "            pixels = pixels.reshape(-1, 28, 28)\n",
    "        self.pixels = pixels\n",
    "        self.labels = labels\n",
    "    \n",
    "    def __len__(self):\n",
    "        return len(self.labels)\n",
    "    \n",
    "    def __getitem__(self, idx):\n",
    "        image = self.pixels[idx]\n",
    "        label = self.labels[idx]\n",
    "        sample = {\"image\": image, \"label\": label}\n",
    "\n",
    "        return sample"
   ]
  },
  {
   "cell_type": "code",
   "execution_count": 5,
   "id": "innocent-touch",
   "metadata": {},
   "outputs": [],
   "source": [
    "train_data, valid_data = random_split(KannadaDataset(mode=\"train\"), [55000, 5000])\n",
    "\n",
    "test_data = KannadaDataset(mode=\"test\")"
   ]
  },
  {
   "cell_type": "code",
   "execution_count": 6,
   "id": "cathedral-trader",
   "metadata": {},
   "outputs": [],
   "source": [
    "train_loader = DataLoader(train_data, batch_size=256, shuffle=True)\n",
    "valid_loader = DataLoader(valid_data, batch_size=256, shuffle=True)\n",
    "test_loader = DataLoader(test_data, batch_size=256)"
   ]
  },
  {
   "cell_type": "code",
   "execution_count": 7,
   "id": "linear-hometown",
   "metadata": {},
   "outputs": [],
   "source": [
    "model = SimpleNet(10).to(\"cuda\")"
   ]
  },
  {
   "cell_type": "code",
   "execution_count": 8,
   "id": "specific-monster",
   "metadata": {},
   "outputs": [],
   "source": [
    "criterion = nn.CrossEntropyLoss()\n",
    "optimizer = Adam(model.parameters(), lr=0.001)"
   ]
  },
  {
   "cell_type": "code",
   "execution_count": 9,
   "id": "native-spending",
   "metadata": {},
   "outputs": [
    {
     "name": "stdout",
     "output_type": "stream",
     "text": [
      "Epoch: 0, Batch: 99, Loss 0.1652186479140073, Val acc 0.993\n",
      "Epoch: 0, Batch: 199, Loss 0.026915152128785848, Val acc 0.994\n",
      "Epoch: 1, Batch: 99, Loss 0.0161675859359093, Val acc 0.9962\n",
      "Epoch: 1, Batch: 199, Loss 0.021237963701132685, Val acc 0.997\n",
      "Epoch: 2, Batch: 99, Loss 0.015101826512254774, Val acc 0.995\n",
      "Epoch: 2, Batch: 199, Loss 0.016148616882856005, Val acc 0.9962\n",
      "Epoch: 3, Batch: 99, Loss 0.012434139280812814, Val acc 0.9974\n",
      "Epoch: 3, Batch: 199, Loss 0.010660937725915573, Val acc 0.9964\n",
      "Epoch: 4, Batch: 99, Loss 0.010894121187739074, Val acc 0.993\n",
      "Epoch: 4, Batch: 199, Loss 0.011358702271827496, Val acc 0.996\n",
      "Epoch: 5, Batch: 99, Loss 0.006949024936475325, Val acc 0.9966\n",
      "Epoch: 5, Batch: 199, Loss 0.010386780123808422, Val acc 0.9972\n",
      "Epoch: 6, Batch: 99, Loss 0.008054018333205022, Val acc 0.9978\n",
      "Epoch: 6, Batch: 199, Loss 0.004852478063985473, Val acc 0.9972\n",
      "Epoch: 7, Batch: 99, Loss 0.0069126790435984735, Val acc 0.997\n",
      "Epoch: 7, Batch: 199, Loss 0.006517529205157188, Val acc 0.9968\n",
      "Training done!\n"
     ]
    }
   ],
   "source": [
    "for epoch in range(8):\n",
    "    running_loss = 0.0\n",
    "    for num_batch, batch in enumerate(train_loader):\n",
    "        images, labels = batch['image'], batch['label']\n",
    "        images = images.unsqueeze(1).to(torch.float32).to(\"cuda\")\n",
    "        labels = labels.to(\"cuda\")\n",
    "        out = model(images)\n",
    "        loss = criterion(out, labels)\n",
    "        \n",
    "        loss.backward()\n",
    "        optimizer.step()\n",
    "        optimizer.zero_grad()\n",
    "        \n",
    "        running_loss += loss.item()\n",
    "        if num_batch%100==99:\n",
    "            correct = 0\n",
    "            total = 0 \n",
    "            with torch.no_grad():\n",
    "                for i, batch in enumerate(valid_loader):\n",
    "                    images, labels = batch['image'], batch['label']\n",
    "                    images = images.unsqueeze(1).to(torch.float32).to(\"cuda\")\n",
    "                    labels = labels.to(\"cuda\")\n",
    "                    outputs = model(images)\n",
    "                    _, predicted = torch.max(outputs.data, 1)\n",
    "                    total += labels.size(0)\n",
    "                    correct += (predicted == labels).sum().item()\n",
    "            print(f\"Epoch: {epoch}, Batch: {num_batch}, Loss {running_loss/100}, Val acc {correct/total}\")\n",
    "            running_loss = 0.0\n",
    "print(\"Training done!\")"
   ]
  },
  {
   "cell_type": "code",
   "execution_count": 10,
   "id": "waiting-biography",
   "metadata": {},
   "outputs": [],
   "source": [
    "torch.save(model.state_dict(), \"kannada_mnist_v7.pth\")"
   ]
  },
  {
   "cell_type": "code",
   "execution_count": 11,
   "id": "liberal-vietnamese",
   "metadata": {},
   "outputs": [
    {
     "name": "stdout",
     "output_type": "stream",
     "text": [
      "Accuracy of the network on the 10000 test images: 0.9966\n"
     ]
    }
   ],
   "source": [
    "correct = 0\n",
    "total = 0 \n",
    "with torch.no_grad():\n",
    "    for i, batch in enumerate(valid_loader):\n",
    "        images, labels = batch['image'], batch['label']\n",
    "        images = images.unsqueeze(1).to(torch.float32).to(\"cuda\")\n",
    "        labels = labels.to(\"cuda\")\n",
    "        outputs = model(images)\n",
    "        _, predicted = torch.max(outputs.data, 1)\n",
    "        total += labels.size(0)\n",
    "        correct += (predicted == labels).sum().item()\n",
    "        \n",
    "print('Accuracy of the network on the 10000 test images: %s' % (\n",
    "    correct / total))"
   ]
  },
  {
   "cell_type": "code",
   "execution_count": 12,
   "id": "textile-fifty",
   "metadata": {},
   "outputs": [],
   "source": [
    "# model.load_state_dict(torch.load(\"kannada_mnist_v5.pth\"))"
   ]
  },
  {
   "cell_type": "code",
   "execution_count": 13,
   "id": "essential-shield",
   "metadata": {},
   "outputs": [
    {
     "data": {
      "text/plain": [
       "5000"
      ]
     },
     "execution_count": 13,
     "metadata": {},
     "output_type": "execute_result"
    }
   ],
   "source": [
    "res = []\n",
    "with torch.no_grad():\n",
    "    for batch in test_loader:\n",
    "        images, ids = batch['image'], batch['label']\n",
    "        images = images.unsqueeze(1).to(torch.float32).to(\"cuda\")\n",
    "        ids = ids.to(\"cuda\")\n",
    "        outputs = model(images)\n",
    "        _, predicted = torch.max(outputs.data, 1)\n",
    "        res += zip(ids.tolist(), predicted.tolist())\n",
    "        \n",
    "len(res)"
   ]
  },
  {
   "cell_type": "code",
   "execution_count": 14,
   "id": "heard-president",
   "metadata": {},
   "outputs": [],
   "source": [
    "with open(\"submission5.csv\", 'w') as csvfile:\n",
    "    writer = csv.writer(csvfile)\n",
    "    # header\n",
    "    writer.writerow([\"id\", \"label\"])\n",
    "    writer.writerows(res)"
   ]
  },
  {
   "cell_type": "code",
   "execution_count": null,
   "id": "coordinated-beatles",
   "metadata": {},
   "outputs": [],
   "source": []
  }
 ],
 "metadata": {
  "kernelspec": {
   "display_name": "Python 3",
   "language": "python",
   "name": "python3"
  },
  "language_info": {
   "codemirror_mode": {
    "name": "ipython",
    "version": 3
   },
   "file_extension": ".py",
   "mimetype": "text/x-python",
   "name": "python",
   "nbconvert_exporter": "python",
   "pygments_lexer": "ipython3",
   "version": "3.7.10"
  }
 },
 "nbformat": 4,
 "nbformat_minor": 5
}
